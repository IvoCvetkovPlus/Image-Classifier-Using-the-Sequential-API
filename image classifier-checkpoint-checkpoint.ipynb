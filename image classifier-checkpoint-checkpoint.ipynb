{
 "cells": [
  {
   "cell_type": "code",
   "execution_count": 1,
   "id": "397ed1ee",
   "metadata": {},
   "outputs": [],
   "source": [
    "import tensorflow as tf\n",
    "from tensorflow import keras"
   ]
  },
  {
   "cell_type": "code",
   "execution_count": 32,
   "id": "9ed703c8",
   "metadata": {},
   "outputs": [],
   "source": [
    "import pandas as pd\n",
    "import matplotlib.pyplot as plt"
   ]
  },
  {
   "cell_type": "code",
   "execution_count": 3,
   "id": "a9397d4b",
   "metadata": {},
   "outputs": [],
   "source": [
    "fashion_mnist = keras.datasets.fashion_mnist\n",
    "(X_train_full,y_train_full),(X_test,y_test) = fashion_mnist.load_data()"
   ]
  },
  {
   "cell_type": "code",
   "execution_count": 4,
   "id": "69adf935",
   "metadata": {},
   "outputs": [
    {
     "data": {
      "text/plain": [
       "(60000, 28, 28)"
      ]
     },
     "execution_count": 4,
     "metadata": {},
     "output_type": "execute_result"
    }
   ],
   "source": [
    "X_train_full.shape"
   ]
  },
  {
   "cell_type": "code",
   "execution_count": 5,
   "id": "5f2de4f0",
   "metadata": {},
   "outputs": [],
   "source": [
    "X_valid, X_train = X_train_full[:5000]/255.0, X_train_full[5000:]/255.0"
   ]
  },
  {
   "cell_type": "code",
   "execution_count": 6,
   "id": "55359a39",
   "metadata": {},
   "outputs": [],
   "source": [
    "y_valid,y_train = y_train_full[:5000],y_train_full[5000:]"
   ]
  },
  {
   "cell_type": "code",
   "execution_count": 7,
   "id": "dae25a88",
   "metadata": {},
   "outputs": [],
   "source": [
    "class_names = [\"T-shirt/top\", \"Trouser\", \"Pullover\", \"Dress\", \"Coat\",\n",
    "\"Sandal\", \"Shirt\", \"Sneaker\", \"Bag\", \"Ankle boot\"]"
   ]
  },
  {
   "cell_type": "code",
   "execution_count": 8,
   "id": "afd81c28",
   "metadata": {},
   "outputs": [
    {
     "data": {
      "text/plain": [
       "'Coat'"
      ]
     },
     "execution_count": 8,
     "metadata": {},
     "output_type": "execute_result"
    }
   ],
   "source": [
    "class_names[y_train[0]]"
   ]
  },
  {
   "cell_type": "code",
   "execution_count": 9,
   "id": "e2d1b16f",
   "metadata": {},
   "outputs": [
    {
     "data": {
      "text/plain": [
       "'Ankle boot'"
      ]
     },
     "execution_count": 9,
     "metadata": {},
     "output_type": "execute_result"
    }
   ],
   "source": [
    "class_names[y_valid[0]]"
   ]
  },
  {
   "cell_type": "code",
   "execution_count": 10,
   "id": "d5af8a36",
   "metadata": {},
   "outputs": [
    {
     "data": {
      "text/plain": [
       "'Ankle boot'"
      ]
     },
     "execution_count": 10,
     "metadata": {},
     "output_type": "execute_result"
    }
   ],
   "source": [
    "class_names[y_test[0]]"
   ]
  },
  {
   "cell_type": "code",
   "execution_count": 15,
   "id": "ffb00cf5",
   "metadata": {},
   "outputs": [],
   "source": [
    "model = keras.models.Sequential([\n",
    "     keras.layers.Flatten(input_shape = [28,28]),\n",
    "     keras.layers.Dense(300,activation = 'relu'),\n",
    "     keras.layers.Dense(100,activation = 'relu'),\n",
    "     keras.layers.Dense(10,activation = 'softmax')\n",
    "])"
   ]
  },
  {
   "cell_type": "code",
   "execution_count": 16,
   "id": "abecaff1",
   "metadata": {},
   "outputs": [
    {
     "name": "stdout",
     "output_type": "stream",
     "text": [
      "Model: \"sequential\"\n",
      "_________________________________________________________________\n",
      "Layer (type)                 Output Shape              Param #   \n",
      "=================================================================\n",
      "flatten (Flatten)            (None, 784)               0         \n",
      "_________________________________________________________________\n",
      "dense (Dense)                (None, 300)               235500    \n",
      "_________________________________________________________________\n",
      "dense_1 (Dense)              (None, 100)               30100     \n",
      "_________________________________________________________________\n",
      "dense_2 (Dense)              (None, 10)                1010      \n",
      "=================================================================\n",
      "Total params: 266,610\n",
      "Trainable params: 266,610\n",
      "Non-trainable params: 0\n",
      "_________________________________________________________________\n"
     ]
    }
   ],
   "source": [
    "model.summary()"
   ]
  },
  {
   "cell_type": "code",
   "execution_count": 17,
   "id": "6a776a3c",
   "metadata": {},
   "outputs": [
    {
     "data": {
      "text/plain": [
       "[<tensorflow.python.keras.layers.core.Flatten at 0x2c426490>,\n",
       " <tensorflow.python.keras.layers.core.Dense at 0x2c433730>,\n",
       " <tensorflow.python.keras.layers.core.Dense at 0x2c41ca60>,\n",
       " <tensorflow.python.keras.layers.core.Dense at 0x2c41cf40>]"
      ]
     },
     "execution_count": 17,
     "metadata": {},
     "output_type": "execute_result"
    }
   ],
   "source": [
    "model.layers"
   ]
  },
  {
   "cell_type": "code",
   "execution_count": 19,
   "id": "60510b29",
   "metadata": {},
   "outputs": [],
   "source": [
    "hidden1 = model.layers[1]"
   ]
  },
  {
   "cell_type": "code",
   "execution_count": 20,
   "id": "8352adeb",
   "metadata": {},
   "outputs": [
    {
     "data": {
      "text/plain": [
       "'dense'"
      ]
     },
     "execution_count": 20,
     "metadata": {},
     "output_type": "execute_result"
    }
   ],
   "source": [
    "hidden1.name"
   ]
  },
  {
   "cell_type": "code",
   "execution_count": 21,
   "id": "ded7c883",
   "metadata": {},
   "outputs": [],
   "source": [
    "weights, biases = hidden1.get_weights()"
   ]
  },
  {
   "cell_type": "code",
   "execution_count": 22,
   "id": "50a01a01",
   "metadata": {},
   "outputs": [
    {
     "data": {
      "text/plain": [
       "array([[ 6.9510013e-02, -3.1257793e-03,  6.0766935e-05, ...,\n",
       "        -5.7046287e-02,  2.6137494e-02, -6.1478160e-02],\n",
       "       [-2.5111496e-02, -6.8244509e-02, -1.1238240e-02, ...,\n",
       "        -1.6309444e-02, -1.6763158e-02,  1.6101897e-03],\n",
       "       [ 5.0312057e-02, -5.8520481e-02,  2.2808909e-02, ...,\n",
       "        -5.7604536e-03, -8.5945725e-03, -5.2158337e-02],\n",
       "       ...,\n",
       "       [ 7.0577562e-02, -2.0604327e-02,  1.2954876e-02, ...,\n",
       "         5.3264678e-02, -2.8385967e-04,  4.2951874e-02],\n",
       "       [ 3.9500110e-02, -3.3619281e-02,  2.8037444e-02, ...,\n",
       "         2.6559547e-02,  2.5623515e-02,  2.7641006e-02],\n",
       "       [ 5.9365273e-02, -3.1646300e-02,  6.1005712e-02, ...,\n",
       "        -3.5773385e-02, -6.7245960e-02,  4.2022698e-02]], dtype=float32)"
      ]
     },
     "execution_count": 22,
     "metadata": {},
     "output_type": "execute_result"
    }
   ],
   "source": [
    "weights"
   ]
  },
  {
   "cell_type": "code",
   "execution_count": 23,
   "id": "b80b45e0",
   "metadata": {},
   "outputs": [
    {
     "data": {
      "text/plain": [
       "array([0., 0., 0., 0., 0., 0., 0., 0., 0., 0., 0., 0., 0., 0., 0., 0., 0.,\n",
       "       0., 0., 0., 0., 0., 0., 0., 0., 0., 0., 0., 0., 0., 0., 0., 0., 0.,\n",
       "       0., 0., 0., 0., 0., 0., 0., 0., 0., 0., 0., 0., 0., 0., 0., 0., 0.,\n",
       "       0., 0., 0., 0., 0., 0., 0., 0., 0., 0., 0., 0., 0., 0., 0., 0., 0.,\n",
       "       0., 0., 0., 0., 0., 0., 0., 0., 0., 0., 0., 0., 0., 0., 0., 0., 0.,\n",
       "       0., 0., 0., 0., 0., 0., 0., 0., 0., 0., 0., 0., 0., 0., 0., 0., 0.,\n",
       "       0., 0., 0., 0., 0., 0., 0., 0., 0., 0., 0., 0., 0., 0., 0., 0., 0.,\n",
       "       0., 0., 0., 0., 0., 0., 0., 0., 0., 0., 0., 0., 0., 0., 0., 0., 0.,\n",
       "       0., 0., 0., 0., 0., 0., 0., 0., 0., 0., 0., 0., 0., 0., 0., 0., 0.,\n",
       "       0., 0., 0., 0., 0., 0., 0., 0., 0., 0., 0., 0., 0., 0., 0., 0., 0.,\n",
       "       0., 0., 0., 0., 0., 0., 0., 0., 0., 0., 0., 0., 0., 0., 0., 0., 0.,\n",
       "       0., 0., 0., 0., 0., 0., 0., 0., 0., 0., 0., 0., 0., 0., 0., 0., 0.,\n",
       "       0., 0., 0., 0., 0., 0., 0., 0., 0., 0., 0., 0., 0., 0., 0., 0., 0.,\n",
       "       0., 0., 0., 0., 0., 0., 0., 0., 0., 0., 0., 0., 0., 0., 0., 0., 0.,\n",
       "       0., 0., 0., 0., 0., 0., 0., 0., 0., 0., 0., 0., 0., 0., 0., 0., 0.,\n",
       "       0., 0., 0., 0., 0., 0., 0., 0., 0., 0., 0., 0., 0., 0., 0., 0., 0.,\n",
       "       0., 0., 0., 0., 0., 0., 0., 0., 0., 0., 0., 0., 0., 0., 0., 0., 0.,\n",
       "       0., 0., 0., 0., 0., 0., 0., 0., 0., 0., 0.], dtype=float32)"
      ]
     },
     "execution_count": 23,
     "metadata": {},
     "output_type": "execute_result"
    }
   ],
   "source": [
    "biases"
   ]
  },
  {
   "cell_type": "code",
   "execution_count": 24,
   "id": "b65e1eee",
   "metadata": {},
   "outputs": [
    {
     "data": {
      "text/plain": [
       "(784, 300)"
      ]
     },
     "execution_count": 24,
     "metadata": {},
     "output_type": "execute_result"
    }
   ],
   "source": [
    "weights.shape"
   ]
  },
  {
   "cell_type": "code",
   "execution_count": 25,
   "id": "eeb3d4fd",
   "metadata": {},
   "outputs": [],
   "source": [
    "model.compile(loss = 'sparse_categorical_crossentropy',\n",
    "             optimizer = 'sgd',\n",
    "             metrics = ['accuracy'])"
   ]
  },
  {
   "cell_type": "code",
   "execution_count": 26,
   "id": "8a6eabd9",
   "metadata": {},
   "outputs": [
    {
     "name": "stdout",
     "output_type": "stream",
     "text": [
      "Epoch 1/30\n",
      "1719/1719 [==============================] - 3s 2ms/step - loss: 0.7099 - accuracy: 0.7665 - val_loss: 0.5111 - val_accuracy: 0.8296\n",
      "Epoch 2/30\n",
      "1719/1719 [==============================] - 3s 2ms/step - loss: 0.4836 - accuracy: 0.8323 - val_loss: 0.4492 - val_accuracy: 0.8470\n",
      "Epoch 3/30\n",
      "1719/1719 [==============================] - 3s 2ms/step - loss: 0.4380 - accuracy: 0.8483 - val_loss: 0.4483 - val_accuracy: 0.8414\n",
      "Epoch 4/30\n",
      "1719/1719 [==============================] - 3s 2ms/step - loss: 0.4104 - accuracy: 0.8564 - val_loss: 0.3928 - val_accuracy: 0.8648\n",
      "Epoch 5/30\n",
      "1719/1719 [==============================] - 3s 2ms/step - loss: 0.3915 - accuracy: 0.8625 - val_loss: 0.3800 - val_accuracy: 0.8702\n",
      "Epoch 6/30\n",
      "1719/1719 [==============================] - 3s 2ms/step - loss: 0.3748 - accuracy: 0.8679 - val_loss: 0.3733 - val_accuracy: 0.8714\n",
      "Epoch 7/30\n",
      "1719/1719 [==============================] - 3s 2ms/step - loss: 0.3616 - accuracy: 0.8721 - val_loss: 0.3961 - val_accuracy: 0.8616\n",
      "Epoch 8/30\n",
      "1719/1719 [==============================] - 3s 2ms/step - loss: 0.3496 - accuracy: 0.8763 - val_loss: 0.3687 - val_accuracy: 0.8696\n",
      "Epoch 9/30\n",
      "1719/1719 [==============================] - 3s 2ms/step - loss: 0.3393 - accuracy: 0.8800 - val_loss: 0.3524 - val_accuracy: 0.8762\n",
      "Epoch 10/30\n",
      "1719/1719 [==============================] - 3s 2ms/step - loss: 0.3302 - accuracy: 0.8815 - val_loss: 0.3318 - val_accuracy: 0.8826\n",
      "Epoch 11/30\n",
      "1719/1719 [==============================] - 3s 2ms/step - loss: 0.3209 - accuracy: 0.8849 - val_loss: 0.3300 - val_accuracy: 0.8828\n",
      "Epoch 12/30\n",
      "1719/1719 [==============================] - 3s 2ms/step - loss: 0.3137 - accuracy: 0.8883 - val_loss: 0.3268 - val_accuracy: 0.8830\n",
      "Epoch 13/30\n",
      "1719/1719 [==============================] - 3s 2ms/step - loss: 0.3071 - accuracy: 0.8902 - val_loss: 0.3205 - val_accuracy: 0.8846\n",
      "Epoch 14/30\n",
      "1719/1719 [==============================] - 3s 2ms/step - loss: 0.3000 - accuracy: 0.8927 - val_loss: 0.3302 - val_accuracy: 0.8812\n",
      "Epoch 15/30\n",
      "1719/1719 [==============================] - 3s 2ms/step - loss: 0.2936 - accuracy: 0.8936 - val_loss: 0.3125 - val_accuracy: 0.8896\n",
      "Epoch 16/30\n",
      "1719/1719 [==============================] - 3s 2ms/step - loss: 0.2878 - accuracy: 0.8952 - val_loss: 0.3314 - val_accuracy: 0.8788\n",
      "Epoch 17/30\n",
      "1719/1719 [==============================] - 3s 2ms/step - loss: 0.2812 - accuracy: 0.8982 - val_loss: 0.3269 - val_accuracy: 0.8826\n",
      "Epoch 18/30\n",
      "1719/1719 [==============================] - 3s 2ms/step - loss: 0.2769 - accuracy: 0.9002 - val_loss: 0.3028 - val_accuracy: 0.8918\n",
      "Epoch 19/30\n",
      "1719/1719 [==============================] - 3s 2ms/step - loss: 0.2703 - accuracy: 0.9030 - val_loss: 0.3086 - val_accuracy: 0.8900\n",
      "Epoch 20/30\n",
      "1719/1719 [==============================] - 3s 2ms/step - loss: 0.2655 - accuracy: 0.9035 - val_loss: 0.3133 - val_accuracy: 0.8888\n",
      "Epoch 21/30\n",
      "1719/1719 [==============================] - 3s 2ms/step - loss: 0.2611 - accuracy: 0.9064 - val_loss: 0.3193 - val_accuracy: 0.8886\n",
      "Epoch 22/30\n",
      "1719/1719 [==============================] - 3s 2ms/step - loss: 0.2565 - accuracy: 0.9068 - val_loss: 0.3049 - val_accuracy: 0.8930\n",
      "Epoch 23/30\n",
      "1719/1719 [==============================] - 3s 2ms/step - loss: 0.2521 - accuracy: 0.9094 - val_loss: 0.3124 - val_accuracy: 0.8916\n",
      "Epoch 24/30\n",
      "1719/1719 [==============================] - 3s 2ms/step - loss: 0.2471 - accuracy: 0.9104 - val_loss: 0.3113 - val_accuracy: 0.8874\n",
      "Epoch 25/30\n",
      "1719/1719 [==============================] - 3s 2ms/step - loss: 0.2434 - accuracy: 0.9129 - val_loss: 0.3016 - val_accuracy: 0.8980\n",
      "Epoch 26/30\n",
      "1719/1719 [==============================] - 3s 2ms/step - loss: 0.2393 - accuracy: 0.9134 - val_loss: 0.2997 - val_accuracy: 0.8896\n",
      "Epoch 27/30\n",
      "1719/1719 [==============================] - 3s 2ms/step - loss: 0.2356 - accuracy: 0.9147 - val_loss: 0.2985 - val_accuracy: 0.8916\n",
      "Epoch 28/30\n",
      "1719/1719 [==============================] - 3s 2ms/step - loss: 0.2306 - accuracy: 0.9169 - val_loss: 0.2972 - val_accuracy: 0.8942\n",
      "Epoch 29/30\n",
      "1719/1719 [==============================] - 3s 2ms/step - loss: 0.2286 - accuracy: 0.9172 - val_loss: 0.3050 - val_accuracy: 0.8936\n",
      "Epoch 30/30\n",
      "1719/1719 [==============================] - 3s 2ms/step - loss: 0.2238 - accuracy: 0.9188 - val_loss: 0.2891 - val_accuracy: 0.8968\n"
     ]
    }
   ],
   "source": [
    "history = model.fit(X_train,y_train, epochs=30, validation_data=(X_valid,y_valid))"
   ]
  },
  {
   "cell_type": "code",
   "execution_count": 27,
   "id": "58854067",
   "metadata": {},
   "outputs": [
    {
     "data": {
      "text/plain": [
       "{'loss': [0.7098919749259949,\n",
       "  0.48364201188087463,\n",
       "  0.4379773437976837,\n",
       "  0.4103904962539673,\n",
       "  0.39149904251098633,\n",
       "  0.3747926354408264,\n",
       "  0.3616337478160858,\n",
       "  0.3495582342147827,\n",
       "  0.3392704129219055,\n",
       "  0.3301556408405304,\n",
       "  0.3208784759044647,\n",
       "  0.3137328028678894,\n",
       "  0.30711427330970764,\n",
       "  0.2999654710292816,\n",
       "  0.2936479151248932,\n",
       "  0.28781193494796753,\n",
       "  0.28118884563446045,\n",
       "  0.27688103914260864,\n",
       "  0.27027082443237305,\n",
       "  0.2655241787433624,\n",
       "  0.26107946038246155,\n",
       "  0.2564796805381775,\n",
       "  0.25213491916656494,\n",
       "  0.24714744091033936,\n",
       "  0.2433708757162094,\n",
       "  0.2393411099910736,\n",
       "  0.23561477661132812,\n",
       "  0.23064979910850525,\n",
       "  0.22860047221183777,\n",
       "  0.22377558052539825],\n",
       " 'accuracy': [0.7665454745292664,\n",
       "  0.8322727084159851,\n",
       "  0.8482727408409119,\n",
       "  0.8563636541366577,\n",
       "  0.8624545335769653,\n",
       "  0.8678908944129944,\n",
       "  0.8720545172691345,\n",
       "  0.8763272762298584,\n",
       "  0.8800181746482849,\n",
       "  0.8815090656280518,\n",
       "  0.8849090933799744,\n",
       "  0.8883090615272522,\n",
       "  0.8901636600494385,\n",
       "  0.8926727175712585,\n",
       "  0.8936363458633423,\n",
       "  0.8952181935310364,\n",
       "  0.8982363343238831,\n",
       "  0.9001636505126953,\n",
       "  0.9029636383056641,\n",
       "  0.9035272598266602,\n",
       "  0.9063818454742432,\n",
       "  0.9068182110786438,\n",
       "  0.9093999862670898,\n",
       "  0.9103999733924866,\n",
       "  0.9129454493522644,\n",
       "  0.9134363532066345,\n",
       "  0.9147454500198364,\n",
       "  0.9168727397918701,\n",
       "  0.917163610458374,\n",
       "  0.9187999963760376],\n",
       " 'val_loss': [0.5111427903175354,\n",
       "  0.4491536617279053,\n",
       "  0.4482835829257965,\n",
       "  0.3928064703941345,\n",
       "  0.3800470530986786,\n",
       "  0.37334221601486206,\n",
       "  0.39610394835472107,\n",
       "  0.3686980903148651,\n",
       "  0.3523622751235962,\n",
       "  0.331833153963089,\n",
       "  0.3299609124660492,\n",
       "  0.3267909288406372,\n",
       "  0.32051318883895874,\n",
       "  0.33018672466278076,\n",
       "  0.3125127851963043,\n",
       "  0.33142757415771484,\n",
       "  0.3268742263317108,\n",
       "  0.3028185963630676,\n",
       "  0.30862024426460266,\n",
       "  0.31328198313713074,\n",
       "  0.31927475333213806,\n",
       "  0.304926335811615,\n",
       "  0.3123946785926819,\n",
       "  0.3113251328468323,\n",
       "  0.30157122015953064,\n",
       "  0.2996806800365448,\n",
       "  0.29849475622177124,\n",
       "  0.2972261607646942,\n",
       "  0.3050075173377991,\n",
       "  0.28913867473602295],\n",
       " 'val_accuracy': [0.8295999765396118,\n",
       "  0.847000002861023,\n",
       "  0.8414000272750854,\n",
       "  0.864799976348877,\n",
       "  0.870199978351593,\n",
       "  0.871399998664856,\n",
       "  0.8615999817848206,\n",
       "  0.8695999979972839,\n",
       "  0.8762000203132629,\n",
       "  0.8826000094413757,\n",
       "  0.8827999830245972,\n",
       "  0.8830000162124634,\n",
       "  0.8845999836921692,\n",
       "  0.8812000155448914,\n",
       "  0.8895999789237976,\n",
       "  0.8787999749183655,\n",
       "  0.8826000094413757,\n",
       "  0.8917999863624573,\n",
       "  0.8899999856948853,\n",
       "  0.8888000249862671,\n",
       "  0.8885999917984009,\n",
       "  0.8930000066757202,\n",
       "  0.8916000127792358,\n",
       "  0.8873999714851379,\n",
       "  0.8980000019073486,\n",
       "  0.8895999789237976,\n",
       "  0.8916000127792358,\n",
       "  0.8942000269889832,\n",
       "  0.8935999870300293,\n",
       "  0.8967999815940857]}"
      ]
     },
     "execution_count": 27,
     "metadata": {},
     "output_type": "execute_result"
    }
   ],
   "source": [
    "history.history"
   ]
  },
  {
   "cell_type": "code",
   "execution_count": 30,
   "id": "51bd0997",
   "metadata": {},
   "outputs": [
    {
     "data": {
      "text/plain": [
       "<AxesSubplot:>"
      ]
     },
     "execution_count": 30,
     "metadata": {},
     "output_type": "execute_result"
    },
    {
     "data": {
      "image/png": "[encoded data removed]",
      "text/plain": [
       "<Figure size 576x360 with 1 Axes>"
      ]
     },
     "metadata": {
      "needs_background": "light"
     },
     "output_type": "display_data"
    }
   ],
   "source": [
    "pd.DataFrame(history.history).plot(figsize= (8,5))"
   ]
  },
  {
   "cell_type": "code",
   "execution_count": 34,
   "id": "ab927fd1",
   "metadata": {},
   "outputs": [
    {
     "name": "stdout",
     "output_type": "stream",
     "text": [
      "313/313 [==============================] - 1s 2ms/step - loss: 59.7424 - accuracy: 0.8542\n"
     ]
    },
    {
     "data": {
      "text/plain": [
       "[59.74240493774414, 0.854200005531311]"
      ]
     },
     "execution_count": 34,
     "metadata": {},
     "output_type": "execute_result"
    }
   ],
   "source": [
    "model.evaluate(X_test,y_test)"
   ]
  },
  {
   "cell_type": "code",
   "execution_count": 39,
   "id": "853031c7",
   "metadata": {},
   "outputs": [],
   "source": [
    "X_new = X_test[:3]\n",
    "y_proba = model.predict_classes(X_new)\n"
   ]
  },
  {
   "cell_type": "code",
   "execution_count": 40,
   "id": "2a897f91",
   "metadata": {},
   "outputs": [
    {
     "data": {
      "text/plain": [
       "array([9, 2, 1], dtype=int64)"
      ]
     },
     "execution_count": 40,
     "metadata": {},
     "output_type": "execute_result"
    }
   ],
   "source": [
    "y_proba.round(2)"
   ]
  },
  {
   "cell_type": "code",
   "execution_count": 41,
   "id": "85dc137c",
   "metadata": {},
   "outputs": [],
   "source": [
    "y_new = y_test[:3]"
   ]
  },
  {
   "cell_type": "code",
   "execution_count": 42,
   "id": "e7655270",
   "metadata": {},
   "outputs": [
    {
     "data": {
      "text/plain": [
       "array([9, 2, 1], dtype=uint8)"
      ]
     },
     "execution_count": 42,
     "metadata": {},
     "output_type": "execute_result"
    }
   ],
   "source": [
    "y_new"
   ]
  },
  {
   "cell_type": "code",
   "execution_count": null,
   "id": "1d633b27",
   "metadata": {},
   "outputs": [],
   "source": []
  },
  {
   "cell_type": "code",
   "execution_count": null,
   "id": "1ed4a414",
   "metadata": {},
   "outputs": [],
   "source": []
  }
 ],
 "metadata": {
  "kernelspec": {
   "display_name": "Python 3",
   "language": "python",
   "name": "python3"
  },
  "language_info": {
   "codemirror_mode": {
    "name": "ipython",
    "version": 3
   },
   "file_extension": ".py",
   "mimetype": "text/x-python",
   "name": "python",
   "nbconvert_exporter": "python",
   "pygments_lexer": "ipython3",
   "version": "3.8.8"
  }
 },
 "nbformat": 4,
 "nbformat_minor": 5
}
